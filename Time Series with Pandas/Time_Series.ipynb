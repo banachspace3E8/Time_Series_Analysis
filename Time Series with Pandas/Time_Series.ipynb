{
 "cells": [
  {
   "cell_type": "code",
   "execution_count": 1,
   "id": "24b90508-05dc-4586-8d42-a1c4b1317c19",
   "metadata": {},
   "outputs": [],
   "source": [
    "#Shishir Khanal\n",
    "#July 4, 2025\n",
    "#TimeSeries intro\n",
    "import numpy as np\n",
    "import pandas as pd\n",
    "from datetime import datetime"
   ]
  },
  {
   "cell_type": "code",
   "execution_count": 3,
   "id": "a3cec9d9-6f1e-4ae6-9c26-b755bb3a9153",
   "metadata": {},
   "outputs": [],
   "source": [
    "my_year = 2020\n",
    "my_month = 1\n",
    "my_day = 2\n",
    "my_hour = 13\n",
    "my_min = 30\n",
    "my_sec = 15"
   ]
  },
  {
   "cell_type": "code",
   "execution_count": 10,
   "id": "a4c4eced-9cce-4a81-b7b8-25985ce4309b",
   "metadata": {},
   "outputs": [
    {
     "data": {
      "text/plain": [
       "datetime.datetime(2020, 1, 2, 0, 0)"
      ]
     },
     "execution_count": 10,
     "metadata": {},
     "output_type": "execute_result"
    }
   ],
   "source": [
    "my_date_time = datetime(my_year,my_month,my_day)\n",
    "my_date_time"
   ]
  },
  {
   "cell_type": "code",
   "execution_count": 11,
   "id": "8378fb26-ed78-47ec-92b7-9ef1d15d7142",
   "metadata": {},
   "outputs": [
    {
     "data": {
      "text/plain": [
       "datetime.datetime(2020, 1, 2, 13, 30, 15)"
      ]
     },
     "execution_count": 11,
     "metadata": {},
     "output_type": "execute_result"
    }
   ],
   "source": [
    "my_date_time = datetime(my_year,my_month,my_day,my_hour,my_min,my_sec)\n",
    "my_date_time"
   ]
  },
  {
   "cell_type": "code",
   "execution_count": 12,
   "id": "fd5b21bb-0f2c-4e11-9991-e0c5323ca8d4",
   "metadata": {},
   "outputs": [
    {
     "data": {
      "text/plain": [
       "datetime.datetime"
      ]
     },
     "execution_count": 12,
     "metadata": {},
     "output_type": "execute_result"
    }
   ],
   "source": [
    "type(my_date_time)"
   ]
  },
  {
   "cell_type": "code",
   "execution_count": 13,
   "id": "80f331d0-d5cf-423c-b0a5-76a409816141",
   "metadata": {},
   "outputs": [
    {
     "data": {
      "text/plain": [
       "13"
      ]
     },
     "execution_count": 13,
     "metadata": {},
     "output_type": "execute_result"
    }
   ],
   "source": [
    "my_date_time.hour"
   ]
  },
  {
   "cell_type": "code",
   "execution_count": 17,
   "id": "10c4894c-f44c-416a-9e21-d847bfb1707b",
   "metadata": {},
   "outputs": [
    {
     "data": {
      "text/plain": [
       "array(['2020-03-15T00', '2020-03-16T00', '2020-03-17T00'],\n",
       "      dtype='datetime64[h]')"
      ]
     },
     "execution_count": 17,
     "metadata": {},
     "output_type": "execute_result"
    }
   ],
   "source": [
    "np.array(['2020-03-15','2020-03-16','2020-03-17'],dtype='datetime64[h]')"
   ]
  },
  {
   "cell_type": "code",
   "execution_count": 18,
   "id": "7dfd4361-288a-4c3d-b11b-4e570d9454b0",
   "metadata": {},
   "outputs": [
    {
     "data": {
      "text/plain": [
       "array([0, 2, 4, 6, 8])"
      ]
     },
     "execution_count": 18,
     "metadata": {},
     "output_type": "execute_result"
    }
   ],
   "source": [
    "np.arange(0,10,2)"
   ]
  },
  {
   "cell_type": "code",
   "execution_count": 19,
   "id": "92eda3cc-42d9-4aff-b80a-eae7f7645896",
   "metadata": {},
   "outputs": [
    {
     "data": {
      "text/plain": [
       "array(['2018-06-01', '2018-06-08', '2018-06-15', '2018-06-22'],\n",
       "      dtype='datetime64[D]')"
      ]
     },
     "execution_count": 19,
     "metadata": {},
     "output_type": "execute_result"
    }
   ],
   "source": [
    "np.arange('2018-06-01','2018-06-23',7,dtype='datetime64[D]')"
   ]
  },
  {
   "cell_type": "code",
   "execution_count": 20,
   "id": "fd5f06bd-2af4-4d34-a436-d5acbff83e86",
   "metadata": {},
   "outputs": [
    {
     "data": {
      "text/plain": [
       "array(['1968', '1969', '1970', '1971', '1972', '1973', '1974', '1975'],\n",
       "      dtype='datetime64[Y]')"
      ]
     },
     "execution_count": 20,
     "metadata": {},
     "output_type": "execute_result"
    }
   ],
   "source": [
    "np.arange('1968','1976', dtype='datetime64[Y]')"
   ]
  },
  {
   "cell_type": "code",
   "execution_count": 21,
   "id": "8f5d512a-7ee9-4a51-b620-997a4ed8df2f",
   "metadata": {},
   "outputs": [],
   "source": [
    "###################################\n",
    "#Date time using Pandas\n",
    "###################################"
   ]
  },
  {
   "cell_type": "code",
   "execution_count": 22,
   "id": "f1a38105-35d4-441c-9d36-43db1313e218",
   "metadata": {},
   "outputs": [
    {
     "data": {
      "text/plain": [
       "DatetimeIndex(['2020-01-01', '2020-01-02', '2020-01-03', '2020-01-04',\n",
       "               '2020-01-05', '2020-01-06', '2020-01-07'],\n",
       "              dtype='datetime64[ns]', freq='D')"
      ]
     },
     "execution_count": 22,
     "metadata": {},
     "output_type": "execute_result"
    }
   ],
   "source": [
    "pd.date_range('2020-01-01',periods=7,freq='D')"
   ]
  },
  {
   "cell_type": "code",
   "execution_count": 23,
   "id": "8c8b92f6-a098-4c23-87e8-1ff91ee3259b",
   "metadata": {},
   "outputs": [
    {
     "data": {
      "text/plain": [
       "DatetimeIndex(['2018-01-01', '2018-01-02', '2018-01-03', '2018-01-04',\n",
       "               '2018-01-05', '2018-01-06', '2018-01-07'],\n",
       "              dtype='datetime64[ns]', freq='D')"
      ]
     },
     "execution_count": 23,
     "metadata": {},
     "output_type": "execute_result"
    }
   ],
   "source": [
    "pd.date_range('Jan 01, 2018',periods=7,freq='D')"
   ]
  },
  {
   "cell_type": "code",
   "execution_count": 28,
   "id": "55ff87e0-ed96-48b9-a4a2-b3ba388c2e9a",
   "metadata": {},
   "outputs": [
    {
     "data": {
      "text/plain": [
       "DatetimeIndex(['2018-02-01', '2018-03-01'], dtype='datetime64[ns]', freq=None)"
      ]
     },
     "execution_count": 28,
     "metadata": {},
     "output_type": "execute_result"
    }
   ],
   "source": [
    "#Default american version mm/dd/yy\n",
    "pd.to_datetime(['1/2/2018','1/03/2018'], format='%d/%m/%Y')"
   ]
  },
  {
   "cell_type": "code",
   "execution_count": 30,
   "id": "1155d48c-4cae-488d-8cb1-7305aa9dd8ca",
   "metadata": {},
   "outputs": [
    {
     "data": {
      "text/plain": [
       "array([[-0.03734266,  0.33466951],\n",
       "       [ 0.97829478,  0.63542508],\n",
       "       [ 1.29057542, -1.59815612]])"
      ]
     },
     "execution_count": 30,
     "metadata": {},
     "output_type": "execute_result"
    }
   ],
   "source": [
    "data = np.random.randn(3,2)\n",
    "cols = ['A','B']\n",
    "data"
   ]
  },
  {
   "cell_type": "code",
   "execution_count": 31,
   "id": "e35dc482-edc3-49f4-9099-3e6e2b5780ae",
   "metadata": {},
   "outputs": [],
   "source": [
    "idx = pd.date_range('2020-01-01',periods=3,freq='D')\n",
    "df = pd.DataFrame(data,index=idx,columns=cols)"
   ]
  },
  {
   "cell_type": "code",
   "execution_count": 32,
   "id": "b90634e2-45de-4169-b6ae-5858fb2ec1dc",
   "metadata": {},
   "outputs": [
    {
     "data": {
      "text/plain": [
       "DatetimeIndex(['2020-01-01', '2020-01-02', '2020-01-03'], dtype='datetime64[ns]', freq='D')"
      ]
     },
     "execution_count": 32,
     "metadata": {},
     "output_type": "execute_result"
    }
   ],
   "source": [
    "df.index"
   ]
  },
  {
   "cell_type": "code",
   "execution_count": 34,
   "id": "a37011bc-068d-4f2f-ac4f-74eb89615132",
   "metadata": {},
   "outputs": [
    {
     "data": {
      "text/plain": [
       "Timestamp('2020-01-03 00:00:00', freq='D')"
      ]
     },
     "execution_count": 34,
     "metadata": {},
     "output_type": "execute_result"
    }
   ],
   "source": [
    "df.index.max()"
   ]
  },
  {
   "cell_type": "code",
   "execution_count": 35,
   "id": "58b09014-8633-4f6c-bb45-9a15e64f6a26",
   "metadata": {},
   "outputs": [
    {
     "data": {
      "text/plain": [
       "2"
      ]
     },
     "execution_count": 35,
     "metadata": {},
     "output_type": "execute_result"
    }
   ],
   "source": [
    "df.index.argmax()"
   ]
  },
  {
   "cell_type": "code",
   "execution_count": 36,
   "id": "56f33e57-f974-47be-9230-d3a813acea77",
   "metadata": {},
   "outputs": [
    {
     "data": {
      "text/plain": [
       "Timestamp('2020-01-01 00:00:00', freq='D')"
      ]
     },
     "execution_count": 36,
     "metadata": {},
     "output_type": "execute_result"
    }
   ],
   "source": [
    "df.index.min()"
   ]
  },
  {
   "cell_type": "code",
   "execution_count": 37,
   "id": "6dd1f6fb-974a-4547-8327-efcfcd57d0f5",
   "metadata": {},
   "outputs": [
    {
     "data": {
      "text/plain": [
       "0"
      ]
     },
     "execution_count": 37,
     "metadata": {},
     "output_type": "execute_result"
    }
   ],
   "source": [
    "df.index.argmin()"
   ]
  },
  {
   "cell_type": "code",
   "execution_count": null,
   "id": "ebc1c00d-0909-4c4d-a35b-0fa0413355c7",
   "metadata": {},
   "outputs": [],
   "source": []
  }
 ],
 "metadata": {
  "kernelspec": {
   "display_name": "Python [conda env:tsa_course]",
   "language": "python",
   "name": "conda-env-tsa_course-py"
  },
  "language_info": {
   "codemirror_mode": {
    "name": "ipython",
    "version": 3
   },
   "file_extension": ".py",
   "mimetype": "text/x-python",
   "name": "python",
   "nbconvert_exporter": "python",
   "pygments_lexer": "ipython3",
   "version": "3.7.2"
  }
 },
 "nbformat": 4,
 "nbformat_minor": 5
}
