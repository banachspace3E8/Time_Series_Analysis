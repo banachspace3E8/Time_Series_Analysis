{
 "cells": [
  {
   "cell_type": "code",
   "execution_count": 2,
   "id": "d18f8d27-5815-486f-af28-d5b11feb1f8f",
   "metadata": {},
   "outputs": [],
   "source": [
    "#Shishir Khanal\n",
    "#July 11, 2025\n",
    "#Prophet library"
   ]
  },
  {
   "cell_type": "code",
   "execution_count": null,
   "id": "1afe20b2-186d-42c7-9556-f7a980e0c1ea",
   "metadata": {},
   "outputs": [],
   "source": [
    "import pandas as pd\n",
    "from fbprophet import Prophet"
   ]
  }
 ],
 "metadata": {
  "kernelspec": {
   "display_name": "Python [conda env:tsa_course]",
   "language": "python",
   "name": "conda-env-tsa_course-py"
  },
  "language_info": {
   "codemirror_mode": {
    "name": "ipython",
    "version": 3
   },
   "file_extension": ".py",
   "mimetype": "text/x-python",
   "name": "python",
   "nbconvert_exporter": "python",
   "pygments_lexer": "ipython3",
   "version": "3.7.2"
  }
 },
 "nbformat": 4,
 "nbformat_minor": 5
}
