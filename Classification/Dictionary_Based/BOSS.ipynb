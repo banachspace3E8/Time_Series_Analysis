{
 "cells": [
  {
   "cell_type": "code",
   "execution_count": 2,
   "id": "471a3a69-30f8-4620-8634-f9546fc212cf",
   "metadata": {},
   "outputs": [],
   "source": [
    "#Shishir Khanal\n",
    "# July 14, 2025\n",
    "# Bag of Symbolic Fourier Approximation"
   ]
  },
  {
   "cell_type": "code",
   "execution_count": 4,
   "id": "a8682c7a-479f-4f05-a9d7-1c3cf7fe4242",
   "metadata": {},
   "outputs": [],
   "source": [
    "# SFA is a symbolic representation of Time Series -> Transform into SFA words\n",
    "#Acts as a Low Pass Filter\n",
    "#Use string matching to access similarities\n",
    "#Steps:\n",
    "#1. DFT\n",
    "#2. Quantization using Multiple Coefficient Binning (MCB)(approximate Step 1 coeff into words)"
   ]
  },
  {
   "cell_type": "code",
   "execution_count": 5,
   "id": "5096b05e-115b-4d9d-853f-732f66bb130b",
   "metadata": {},
   "outputs": [],
   "source": [
    "import pandas as pd\n",
    "import numpy as np\n",
    "import matplotlib.pyplot as plt\n",
    "\n",
    "import warnings\n",
    "warnings.filterwarnings('ignore')"
   ]
  },
  {
   "cell_type": "code",
   "execution_count": 6,
   "id": "0be692fc-d986-4c67-bb20-89a94ec965f7",
   "metadata": {},
   "outputs": [],
   "source": [
    "#DFT\n",
    "x = np.array([1,2,3,4,5,6,7,8,9,8,7,6,5,4,3,2,1])\n",
    "x_dft = np.fft.fft(x)"
   ]
  },
  {
   "cell_type": "code",
   "execution_count": 7,
   "id": "690c75a6-a742-4ee4-af95-04d16924112f",
   "metadata": {},
   "outputs": [
    {
     "data": {
      "text/plain": [
       "array([ 8.10000000e+01+0.j        , -2.88652979e+01-5.39585933j,\n",
       "        2.41264070e-01+0.0934662j , -2.83816557e+00-1.75731772j,\n",
       "        2.12479910e-01+0.19370103j, -7.58287827e-01-1.00413536j,\n",
       "        1.54155956e-01+0.30958689j, -1.88385685e-01-0.662107j  ,\n",
       "        4.22370376e-02+0.45581023j,  4.22370376e-02-0.45581023j,\n",
       "       -1.88385685e-01+0.662107j  ,  1.54155956e-01-0.30958689j,\n",
       "       -7.58287827e-01+1.00413536j,  2.12479910e-01-0.19370103j,\n",
       "       -2.83816557e+00+1.75731772j,  2.41264070e-01-0.0934662j ,\n",
       "       -2.88652979e+01+5.39585933j])"
      ]
     },
     "execution_count": 7,
     "metadata": {},
     "output_type": "execute_result"
    }
   ],
   "source": [
    "x_dft"
   ]
  },
  {
   "cell_type": "code",
   "execution_count": 8,
   "id": "a508b9aa-c86e-48d8-8bc0-b40cca3ae3ea",
   "metadata": {},
   "outputs": [
    {
     "data": {
      "image/png": "[encoded data removed]",
      "text/plain": [
       "<Figure size 640x480 with 2 Axes>"
      ]
     },
     "metadata": {},
     "output_type": "display_data"
    }
   ],
   "source": [
    "freq = np.fft.fftfreq(x.shape[-1])\n",
    "\n",
    "fig, (ax1, ax2) = plt.subplots(nrows=2, ncols=1)\n",
    "\n",
    "ax1.plot(x, color='blue')\n",
    "ax1.set_xlabel('Timesteps')\n",
    "\n",
    "ax2.plot(freq[1:], x_dft.real[1:],color='orange')\n",
    "ax2.set_xlabel('Frequency')\n",
    "ax2.set_title('DFT')\n",
    "\n",
    "plt.tight_layout()"
   ]
  },
  {
   "cell_type": "code",
   "execution_count": 9,
   "id": "8c436c61-65d1-4043-9e1e-cbdb93c20ad5",
   "metadata": {},
   "outputs": [
    {
     "data": {
      "text/plain": [
       "array([11.6+0.j , -2.8+1.8j, -1.6+0.j , -2.8-1.8j])"
      ]
     },
     "execution_count": 9,
     "metadata": {},
     "output_type": "execute_result"
    }
   ],
   "source": [
    "x = np.array([1.1,2.4,3.9,4.2])\n",
    "x_dft = np.fft.fft(x)\n",
    "\n",
    "x_dft"
   ]
  },
  {
   "cell_type": "code",
   "execution_count": 10,
   "id": "db92e3e5-6b02-4d5f-a2ce-aa5dbe0d4ccc",
   "metadata": {},
   "outputs": [],
   "source": [
    "#Individual BOSS"
   ]
  },
  {
   "cell_type": "code",
   "execution_count": 13,
   "id": "80e27ff5-acc9-4a4f-880d-cff302da3b5d",
   "metadata": {},
   "outputs": [],
   "source": [
    "from sktime.datasets import load_basic_motions\n",
    "\n",
    "X_train,y_train = load_basic_motions(split='train', return_type='numpy3D')\n",
    "X_test,y_test = load_basic_motions(split='test', return_type='numpy3D')\n",
    "\n",
    "uni_X_train = X_train[:,0:1,:]\n",
    "uni_X_test = X_test[:,0:1,:]"
   ]
  },
  {
   "cell_type": "code",
   "execution_count": 15,
   "id": "2a236b18-de44-412e-b9c1-b5a3afadfb34",
   "metadata": {},
   "outputs": [
    {
     "name": "stdout",
     "output_type": "stream",
     "text": [
      "{'alphabet_size': 2, 'window_size': 10, 'word_length': 2}\n",
      "0.575\n"
     ]
    }
   ],
   "source": [
    "from sklearn.model_selection import GridSearchCV\n",
    "from sklearn.model_selection import KFold\n",
    "\n",
    "from sklearn.metrics import accuracy_score\n",
    "\n",
    "from sktime.classification.dictionary_based import IndividualBOSS\n",
    "\n",
    "#Init Model\n",
    "boss = IndividualBOSS(n_jobs=-1, random_state=42)\n",
    "\n",
    "#Define params to grid\n",
    "params = {\n",
    "    'window_size': [10,20,30],\n",
    "    'word_length': [2,3,4],\n",
    "    'alphabet_size': [2,3,4]\n",
    "}\n",
    "\n",
    "#Tune Model\n",
    "tuned_boss = GridSearchCV(\n",
    "    boss,\n",
    "    params,\n",
    "    cv=KFold(n_splits=4)\n",
    ")\n",
    "\n",
    "#Fit Model\n",
    "tuned_boss.fit(uni_X_train,y_train)\n",
    "\n",
    "#Make Predictions\n",
    "y_pred = tuned_boss.predict(uni_X_test)\n",
    "\n",
    "print(tuned_boss.best_params_)\n",
    "print(accuracy_score(y_test, y_pred))\n"
   ]
  },
  {
   "cell_type": "code",
   "execution_count": 16,
   "id": "9f95b77d-fc8f-4040-90e4-b1e6fc97ad39",
   "metadata": {},
   "outputs": [],
   "source": [
    "#Boss Ensemble"
   ]
  },
  {
   "cell_type": "code",
   "execution_count": 18,
   "id": "52048919-8f11-4fcb-8f22-edb1835197ab",
   "metadata": {},
   "outputs": [
    {
     "name": "stdout",
     "output_type": "stream",
     "text": [
      "Elapsed time: 281.0 seconds or 5.0 minutes\n",
      "{'alphabet_size': 2, 'feature_selection': 'chi2'}\n",
      "0.975\n"
     ]
    }
   ],
   "source": [
    "import time\n",
    "from sktime.classification.dictionary_based import BOSSEnsemble\n",
    "#Build 500 models by default\n",
    "\n",
    "start = time.time()\n",
    "\n",
    "#Init Boss Ensemble\n",
    "boss = BOSSEnsemble(n_jobs=-1, random_state=42)\n",
    "\n",
    "#Params grid\n",
    "params = {\n",
    "    'alphabet_size': [2,3,4],\n",
    "    'feature_selection': ['chi2','random']\n",
    "}\n",
    "\n",
    "tuned_boss = GridSearchCV(\n",
    "    boss,\n",
    "    params,\n",
    "    cv=KFold(n_splits=4)\n",
    ")\n",
    "\n",
    "tuned_boss.fit(uni_X_train, y_train)\n",
    "\n",
    "y_pred = tuned_boss.predict(uni_X_test)\n",
    "\n",
    "end = time.time()\n",
    "\n",
    "print(f\"Elapsed time: {round(end-start,0)} seconds or {round((end-start)/60,0)} minutes\")\n",
    "print(tuned_boss.best_params_)\n",
    "print(accuracy_score(y_test, y_pred))"
   ]
  },
  {
   "cell_type": "code",
   "execution_count": null,
   "id": "45047cbd-df54-4432-b213-7f50db11075a",
   "metadata": {},
   "outputs": [],
   "source": [
    "#cnotractable BOSS"
   ]
  },
  {
   "cell_type": "code",
   "execution_count": 19,
   "id": "9d4eaa7c-34b6-4de4-96aa-1a5856db9e26",
   "metadata": {},
   "outputs": [
    {
     "name": "stdout",
     "output_type": "stream",
     "text": [
      "Elapsed time: 300.0 seconds or 5.0 minutes\n",
      "{'feature_selection': 'chi2', 'min_window': 5}\n",
      "1.0\n"
     ]
    }
   ],
   "source": [
    "from sktime.classification.dictionary_based import ContractableBOSS\n",
    "\n",
    "start = time.time()\n",
    "\n",
    "#Intialize contractable BOSS\n",
    "c_boss = ContractableBOSS(n_jobs=-1, random_state=42)\n",
    "\n",
    "#Params grid\n",
    "params = {\n",
    "    'min_window': [5, 10, 20],\n",
    "    'feature_selection': ['chi2','random']\n",
    "}\n",
    "\n",
    "tuned_boss = GridSearchCV(\n",
    "    boss,\n",
    "    params,\n",
    "    cv=KFold(n_splits=4)\n",
    ")\n",
    "\n",
    "tuned_boss.fit(uni_X_train, y_train)\n",
    "y_pred = tuned_boss.predict(uni_X_test)\n",
    "\n",
    "end = time.time()\n",
    "\n",
    "print(f\"Elapsed time: {round(end-start,0)} seconds or {round((end-start)/60,0)} minutes\")\n",
    "print(tuned_boss.best_params_)\n",
    "print(accuracy_score(y_test, y_pred))"
   ]
  },
  {
   "cell_type": "code",
   "execution_count": null,
   "id": "a0399b1f-2389-4b77-a696-b2520261ba80",
   "metadata": {},
   "outputs": [],
   "source": []
  },
  {
   "cell_type": "code",
   "execution_count": null,
   "id": "336feb9b-238a-476c-840a-0413d13bf656",
   "metadata": {},
   "outputs": [],
   "source": []
  },
  {
   "cell_type": "code",
   "execution_count": null,
   "id": "7f474ee4-cb3a-49a7-801d-b19b297f4811",
   "metadata": {},
   "outputs": [],
   "source": []
  }
 ],
 "metadata": {
  "kernelspec": {
   "display_name": "Python [conda env:sktime]",
   "language": "python",
   "name": "conda-env-sktime-py"
  },
  "language_info": {
   "codemirror_mode": {
    "name": "ipython",
    "version": 3
   },
   "file_extension": ".py",
   "mimetype": "text/x-python",
   "name": "python",
   "nbconvert_exporter": "python",
   "pygments_lexer": "ipython3",
   "version": "3.10.13"
  }
 },
 "nbformat": 4,
 "nbformat_minor": 5
}
