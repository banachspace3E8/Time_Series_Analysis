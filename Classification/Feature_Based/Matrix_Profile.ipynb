{
 "cells": [
  {
   "cell_type": "code",
   "execution_count": 1,
   "id": "38262d34-adfa-4f59-8152-10bd2358cdff",
   "metadata": {},
   "outputs": [],
   "source": [
    "#Shishir Khanal\n",
    "# July 18, 2025\n",
    "# Matrix Profile"
   ]
  },
  {
   "cell_type": "code",
   "execution_count": 2,
   "id": "20076f99-99b0-43d9-803f-c02394685e82",
   "metadata": {},
   "outputs": [],
   "source": [
    "# Sliding window computes the Euclidean distance between each subsequence\n",
    "#Avoid trivial matches i.e. m/2\n",
    "#keep minimal distance"
   ]
  },
  {
   "cell_type": "code",
   "execution_count": null,
   "id": "465863cb-95ef-42b8-ac09-2fd9fd81d379",
   "metadata": {},
   "outputs": [],
   "source": []
  }
 ],
 "metadata": {
  "kernelspec": {
   "display_name": "Python [conda env:sktime]",
   "language": "python",
   "name": "conda-env-sktime-py"
  },
  "language_info": {
   "codemirror_mode": {
    "name": "ipython",
    "version": 3
   },
   "file_extension": ".py",
   "mimetype": "text/x-python",
   "name": "python",
   "nbconvert_exporter": "python",
   "pygments_lexer": "ipython3",
   "version": "3.10.13"
  }
 },
 "nbformat": 4,
 "nbformat_minor": 5
}
