{
 "cells": [
  {
   "cell_type": "code",
   "execution_count": null,
   "id": "8b229d12-7420-404a-a1ee-a26558a000d3",
   "metadata": {},
   "outputs": [],
   "source": []
  }
 ],
 "metadata": {
  "kernelspec": {
   "display_name": "",
   "name": ""
  },
  "language_info": {
   "name": ""
  }
 },
 "nbformat": 4,
 "nbformat_minor": 5
}
